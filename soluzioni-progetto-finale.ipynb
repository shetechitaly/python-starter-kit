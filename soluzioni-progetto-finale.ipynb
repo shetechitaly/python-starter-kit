{
  "cells": [
    {
      "cell_type": "markdown",
      "metadata": {
        "id": "OhSOvbGhgQr6"
      },
      "source": [
        "***"
      ]
    },
    {
      "cell_type": "markdown",
      "metadata": {
        "id": "IT0dx29ehQnD"
      },
      "source": [
        "# <b style='color:green;'> Overall Picture </b>\n",
        "\n",
        "In this notebook you will find a simple guide in how to start from zero in analyzing data. The guiding steps are as follows:\n",
        "- <b> Data Gathering </b>\n",
        "- <b> Data Understanding </b>\n",
        "- <b> Data Manipulation </b>\n",
        "\n",
        "Let's get right into that!"
      ]
    },
    {
      "cell_type": "markdown",
      "metadata": {
        "id": "lljxfFr0gQr9"
      },
      "source": [
        "***"
      ]
    },
    {
      "cell_type": "markdown",
      "metadata": {
        "id": "WvbfM6Y-gQr9"
      },
      "source": [
        "# <b style='color:#FF00FF;'> Data Gathering </b>"
      ]
    },
    {
      "cell_type": "markdown",
      "metadata": {
        "id": "dLdhcL__gQr-"
      },
      "source": [
        "<b> STEP I </b>: Import Packages and Data"
      ]
    },
    {
      "cell_type": "code",
      "execution_count": null,
      "metadata": {
        "id": "TA5Mzd4Wh0LV"
      },
      "outputs": [],
      "source": [
        "# Import Packages (an open to everyone library which offers functions for handling data)\n",
        "import pandas as pd\n",
        "import numpy as np\n",
        "import seaborn as sns\n",
        "import matplotlib.pyplot as plt"
      ]
    },
    {
      "cell_type": "code",
      "execution_count": null,
      "metadata": {
        "id": "hvdROqfjhbDU"
      },
      "outputs": [],
      "source": [
        "# Import Dataset, in this case in csv (comma seperated values) format\n",
        "df = pd.read_csv(\"Hackathon_Ideal_Data.csv\")"
      ]
    },
    {
      "cell_type": "markdown",
      "metadata": {
        "id": "RB2xs_kLEDC0"
      },
      "source": [
        "<b> Step 2:</b> General Schema Comprehension"
      ]
    },
    {
      "cell_type": "code",
      "execution_count": null,
      "metadata": {
        "colab": {
          "base_uri": "https://localhost:8080/"
        },
        "id": "IoRUOt0oiddH",
        "outputId": "263dce09-c52c-4632-f3c5-8e7487f5d2bd"
      },
      "outputs": [
        {
          "output_type": "execute_result",
          "data": {
            "text/plain": [
              "MONTH        object\n",
              "STORECODE    object\n",
              "QTY           int64\n",
              "VALUE         int64\n",
              "GRP          object\n",
              "SGRP         object\n",
              "SSGRP        object\n",
              "CMP          object\n",
              "MBRD         object\n",
              "BRD          object\n",
              "dtype: object"
            ]
          },
          "metadata": {},
          "execution_count": 4
        }
      ],
      "source": [
        "# List of the columns and corresponding types\n",
        "df.dtypes"
      ]
    },
    {
      "cell_type": "code",
      "execution_count": null,
      "metadata": {
        "colab": {
          "base_uri": "https://localhost:8080/",
          "height": 283
        },
        "id": "ij4usD4siTdR",
        "outputId": "b5a360a5-8eef-46ba-b19c-67ac593b4778"
      },
      "outputs": [
        {
          "output_type": "execute_result",
          "data": {
            "text/plain": [
              "  MONTH STORECODE  QTY  VALUE                GRP               SGRP  \\\n",
              "0    M1        P1   25     83  HAIR CONDITIONERS  HAIR CONDITIONERS   \n",
              "1    M1        P1    6     22  HAIR CONDITIONERS  HAIR CONDITIONERS   \n",
              "2    M1        P1    4     15  HAIR CONDITIONERS  HAIR CONDITIONERS   \n",
              "3    M1        P1   15     60  HAIR CONDITIONERS  HAIR CONDITIONERS   \n",
              "4    M1        P2    0      0  HAIR CONDITIONERS  HAIR CONDITIONERS   \n",
              "\n",
              "               SSGRP                         CMP         MBRD  \\\n",
              "0  HAIR CONDITIONERS  HINDUSTAN UNILEVER LIMITED         DOVE   \n",
              "1  HAIR CONDITIONERS  HINDUSTAN UNILEVER LIMITED         DOVE   \n",
              "2  HAIR CONDITIONERS  HINDUSTAN UNILEVER LIMITED         DOVE   \n",
              "3  HAIR CONDITIONERS               L'OREAL INDIA      GARNIER   \n",
              "4  HAIR CONDITIONERS  HINDUSTAN UNILEVER LIMITED  CLINIC PLUS   \n",
              "\n",
              "                     BRD  \n",
              "0  DOVE HAIR FALL RESCUE  \n",
              "1    DOVE INTENSE REPAIR  \n",
              "2   DOVE OXYGEN MOISTURE  \n",
              "3                FRUCTIS  \n",
              "4            CLINIC PLUS  "
            ],
            "text/html": [
              "\n",
              "  <div id=\"df-06dfe911-b266-43cb-8e7b-2765e8fb62d9\" class=\"colab-df-container\">\n",
              "    <div>\n",
              "<style scoped>\n",
              "    .dataframe tbody tr th:only-of-type {\n",
              "        vertical-align: middle;\n",
              "    }\n",
              "\n",
              "    .dataframe tbody tr th {\n",
              "        vertical-align: top;\n",
              "    }\n",
              "\n",
              "    .dataframe thead th {\n",
              "        text-align: right;\n",
              "    }\n",
              "</style>\n",
              "<table border=\"1\" class=\"dataframe\">\n",
              "  <thead>\n",
              "    <tr style=\"text-align: right;\">\n",
              "      <th></th>\n",
              "      <th>MONTH</th>\n",
              "      <th>STORECODE</th>\n",
              "      <th>QTY</th>\n",
              "      <th>VALUE</th>\n",
              "      <th>GRP</th>\n",
              "      <th>SGRP</th>\n",
              "      <th>SSGRP</th>\n",
              "      <th>CMP</th>\n",
              "      <th>MBRD</th>\n",
              "      <th>BRD</th>\n",
              "    </tr>\n",
              "  </thead>\n",
              "  <tbody>\n",
              "    <tr>\n",
              "      <th>0</th>\n",
              "      <td>M1</td>\n",
              "      <td>P1</td>\n",
              "      <td>25</td>\n",
              "      <td>83</td>\n",
              "      <td>HAIR CONDITIONERS</td>\n",
              "      <td>HAIR CONDITIONERS</td>\n",
              "      <td>HAIR CONDITIONERS</td>\n",
              "      <td>HINDUSTAN UNILEVER LIMITED</td>\n",
              "      <td>DOVE</td>\n",
              "      <td>DOVE HAIR FALL RESCUE</td>\n",
              "    </tr>\n",
              "    <tr>\n",
              "      <th>1</th>\n",
              "      <td>M1</td>\n",
              "      <td>P1</td>\n",
              "      <td>6</td>\n",
              "      <td>22</td>\n",
              "      <td>HAIR CONDITIONERS</td>\n",
              "      <td>HAIR CONDITIONERS</td>\n",
              "      <td>HAIR CONDITIONERS</td>\n",
              "      <td>HINDUSTAN UNILEVER LIMITED</td>\n",
              "      <td>DOVE</td>\n",
              "      <td>DOVE INTENSE REPAIR</td>\n",
              "    </tr>\n",
              "    <tr>\n",
              "      <th>2</th>\n",
              "      <td>M1</td>\n",
              "      <td>P1</td>\n",
              "      <td>4</td>\n",
              "      <td>15</td>\n",
              "      <td>HAIR CONDITIONERS</td>\n",
              "      <td>HAIR CONDITIONERS</td>\n",
              "      <td>HAIR CONDITIONERS</td>\n",
              "      <td>HINDUSTAN UNILEVER LIMITED</td>\n",
              "      <td>DOVE</td>\n",
              "      <td>DOVE OXYGEN MOISTURE</td>\n",
              "    </tr>\n",
              "    <tr>\n",
              "      <th>3</th>\n",
              "      <td>M1</td>\n",
              "      <td>P1</td>\n",
              "      <td>15</td>\n",
              "      <td>60</td>\n",
              "      <td>HAIR CONDITIONERS</td>\n",
              "      <td>HAIR CONDITIONERS</td>\n",
              "      <td>HAIR CONDITIONERS</td>\n",
              "      <td>L'OREAL INDIA</td>\n",
              "      <td>GARNIER</td>\n",
              "      <td>FRUCTIS</td>\n",
              "    </tr>\n",
              "    <tr>\n",
              "      <th>4</th>\n",
              "      <td>M1</td>\n",
              "      <td>P2</td>\n",
              "      <td>0</td>\n",
              "      <td>0</td>\n",
              "      <td>HAIR CONDITIONERS</td>\n",
              "      <td>HAIR CONDITIONERS</td>\n",
              "      <td>HAIR CONDITIONERS</td>\n",
              "      <td>HINDUSTAN UNILEVER LIMITED</td>\n",
              "      <td>CLINIC PLUS</td>\n",
              "      <td>CLINIC PLUS</td>\n",
              "    </tr>\n",
              "  </tbody>\n",
              "</table>\n",
              "</div>\n",
              "    <div class=\"colab-df-buttons\">\n",
              "\n",
              "  <div class=\"colab-df-container\">\n",
              "    <button class=\"colab-df-convert\" onclick=\"convertToInteractive('df-06dfe911-b266-43cb-8e7b-2765e8fb62d9')\"\n",
              "            title=\"Convert this dataframe to an interactive table.\"\n",
              "            style=\"display:none;\">\n",
              "\n",
              "  <svg xmlns=\"http://www.w3.org/2000/svg\" height=\"24px\" viewBox=\"0 -960 960 960\">\n",
              "    <path d=\"M120-120v-720h720v720H120Zm60-500h600v-160H180v160Zm220 220h160v-160H400v160Zm0 220h160v-160H400v160ZM180-400h160v-160H180v160Zm440 0h160v-160H620v160ZM180-180h160v-160H180v160Zm440 0h160v-160H620v160Z\"/>\n",
              "  </svg>\n",
              "    </button>\n",
              "\n",
              "  <style>\n",
              "    .colab-df-container {\n",
              "      display:flex;\n",
              "      gap: 12px;\n",
              "    }\n",
              "\n",
              "    .colab-df-convert {\n",
              "      background-color: #E8F0FE;\n",
              "      border: none;\n",
              "      border-radius: 50%;\n",
              "      cursor: pointer;\n",
              "      display: none;\n",
              "      fill: #1967D2;\n",
              "      height: 32px;\n",
              "      padding: 0 0 0 0;\n",
              "      width: 32px;\n",
              "    }\n",
              "\n",
              "    .colab-df-convert:hover {\n",
              "      background-color: #E2EBFA;\n",
              "      box-shadow: 0px 1px 2px rgba(60, 64, 67, 0.3), 0px 1px 3px 1px rgba(60, 64, 67, 0.15);\n",
              "      fill: #174EA6;\n",
              "    }\n",
              "\n",
              "    .colab-df-buttons div {\n",
              "      margin-bottom: 4px;\n",
              "    }\n",
              "\n",
              "    [theme=dark] .colab-df-convert {\n",
              "      background-color: #3B4455;\n",
              "      fill: #D2E3FC;\n",
              "    }\n",
              "\n",
              "    [theme=dark] .colab-df-convert:hover {\n",
              "      background-color: #434B5C;\n",
              "      box-shadow: 0px 1px 3px 1px rgba(0, 0, 0, 0.15);\n",
              "      filter: drop-shadow(0px 1px 2px rgba(0, 0, 0, 0.3));\n",
              "      fill: #FFFFFF;\n",
              "    }\n",
              "  </style>\n",
              "\n",
              "    <script>\n",
              "      const buttonEl =\n",
              "        document.querySelector('#df-06dfe911-b266-43cb-8e7b-2765e8fb62d9 button.colab-df-convert');\n",
              "      buttonEl.style.display =\n",
              "        google.colab.kernel.accessAllowed ? 'block' : 'none';\n",
              "\n",
              "      async function convertToInteractive(key) {\n",
              "        const element = document.querySelector('#df-06dfe911-b266-43cb-8e7b-2765e8fb62d9');\n",
              "        const dataTable =\n",
              "          await google.colab.kernel.invokeFunction('convertToInteractive',\n",
              "                                                    [key], {});\n",
              "        if (!dataTable) return;\n",
              "\n",
              "        const docLinkHtml = 'Like what you see? Visit the ' +\n",
              "          '<a target=\"_blank\" href=https://colab.research.google.com/notebooks/data_table.ipynb>data table notebook</a>'\n",
              "          + ' to learn more about interactive tables.';\n",
              "        element.innerHTML = '';\n",
              "        dataTable['output_type'] = 'display_data';\n",
              "        await google.colab.output.renderOutput(dataTable, element);\n",
              "        const docLink = document.createElement('div');\n",
              "        docLink.innerHTML = docLinkHtml;\n",
              "        element.appendChild(docLink);\n",
              "      }\n",
              "    </script>\n",
              "  </div>\n",
              "\n",
              "\n",
              "<div id=\"df-6f8e428a-bba2-481e-85d1-cc4cb0215340\">\n",
              "  <button class=\"colab-df-quickchart\" onclick=\"quickchart('df-6f8e428a-bba2-481e-85d1-cc4cb0215340')\"\n",
              "            title=\"Suggest charts.\"\n",
              "            style=\"display:none;\">\n",
              "\n",
              "<svg xmlns=\"http://www.w3.org/2000/svg\" height=\"24px\"viewBox=\"0 0 24 24\"\n",
              "     width=\"24px\">\n",
              "    <g>\n",
              "        <path d=\"M19 3H5c-1.1 0-2 .9-2 2v14c0 1.1.9 2 2 2h14c1.1 0 2-.9 2-2V5c0-1.1-.9-2-2-2zM9 17H7v-7h2v7zm4 0h-2V7h2v10zm4 0h-2v-4h2v4z\"/>\n",
              "    </g>\n",
              "</svg>\n",
              "  </button>\n",
              "\n",
              "<style>\n",
              "  .colab-df-quickchart {\n",
              "      --bg-color: #E8F0FE;\n",
              "      --fill-color: #1967D2;\n",
              "      --hover-bg-color: #E2EBFA;\n",
              "      --hover-fill-color: #174EA6;\n",
              "      --disabled-fill-color: #AAA;\n",
              "      --disabled-bg-color: #DDD;\n",
              "  }\n",
              "\n",
              "  [theme=dark] .colab-df-quickchart {\n",
              "      --bg-color: #3B4455;\n",
              "      --fill-color: #D2E3FC;\n",
              "      --hover-bg-color: #434B5C;\n",
              "      --hover-fill-color: #FFFFFF;\n",
              "      --disabled-bg-color: #3B4455;\n",
              "      --disabled-fill-color: #666;\n",
              "  }\n",
              "\n",
              "  .colab-df-quickchart {\n",
              "    background-color: var(--bg-color);\n",
              "    border: none;\n",
              "    border-radius: 50%;\n",
              "    cursor: pointer;\n",
              "    display: none;\n",
              "    fill: var(--fill-color);\n",
              "    height: 32px;\n",
              "    padding: 0;\n",
              "    width: 32px;\n",
              "  }\n",
              "\n",
              "  .colab-df-quickchart:hover {\n",
              "    background-color: var(--hover-bg-color);\n",
              "    box-shadow: 0 1px 2px rgba(60, 64, 67, 0.3), 0 1px 3px 1px rgba(60, 64, 67, 0.15);\n",
              "    fill: var(--button-hover-fill-color);\n",
              "  }\n",
              "\n",
              "  .colab-df-quickchart-complete:disabled,\n",
              "  .colab-df-quickchart-complete:disabled:hover {\n",
              "    background-color: var(--disabled-bg-color);\n",
              "    fill: var(--disabled-fill-color);\n",
              "    box-shadow: none;\n",
              "  }\n",
              "\n",
              "  .colab-df-spinner {\n",
              "    border: 2px solid var(--fill-color);\n",
              "    border-color: transparent;\n",
              "    border-bottom-color: var(--fill-color);\n",
              "    animation:\n",
              "      spin 1s steps(1) infinite;\n",
              "  }\n",
              "\n",
              "  @keyframes spin {\n",
              "    0% {\n",
              "      border-color: transparent;\n",
              "      border-bottom-color: var(--fill-color);\n",
              "      border-left-color: var(--fill-color);\n",
              "    }\n",
              "    20% {\n",
              "      border-color: transparent;\n",
              "      border-left-color: var(--fill-color);\n",
              "      border-top-color: var(--fill-color);\n",
              "    }\n",
              "    30% {\n",
              "      border-color: transparent;\n",
              "      border-left-color: var(--fill-color);\n",
              "      border-top-color: var(--fill-color);\n",
              "      border-right-color: var(--fill-color);\n",
              "    }\n",
              "    40% {\n",
              "      border-color: transparent;\n",
              "      border-right-color: var(--fill-color);\n",
              "      border-top-color: var(--fill-color);\n",
              "    }\n",
              "    60% {\n",
              "      border-color: transparent;\n",
              "      border-right-color: var(--fill-color);\n",
              "    }\n",
              "    80% {\n",
              "      border-color: transparent;\n",
              "      border-right-color: var(--fill-color);\n",
              "      border-bottom-color: var(--fill-color);\n",
              "    }\n",
              "    90% {\n",
              "      border-color: transparent;\n",
              "      border-bottom-color: var(--fill-color);\n",
              "    }\n",
              "  }\n",
              "</style>\n",
              "\n",
              "  <script>\n",
              "    async function quickchart(key) {\n",
              "      const quickchartButtonEl =\n",
              "        document.querySelector('#' + key + ' button');\n",
              "      quickchartButtonEl.disabled = true;  // To prevent multiple clicks.\n",
              "      quickchartButtonEl.classList.add('colab-df-spinner');\n",
              "      try {\n",
              "        const charts = await google.colab.kernel.invokeFunction(\n",
              "            'suggestCharts', [key], {});\n",
              "      } catch (error) {\n",
              "        console.error('Error during call to suggestCharts:', error);\n",
              "      }\n",
              "      quickchartButtonEl.classList.remove('colab-df-spinner');\n",
              "      quickchartButtonEl.classList.add('colab-df-quickchart-complete');\n",
              "    }\n",
              "    (() => {\n",
              "      let quickchartButtonEl =\n",
              "        document.querySelector('#df-6f8e428a-bba2-481e-85d1-cc4cb0215340 button');\n",
              "      quickchartButtonEl.style.display =\n",
              "        google.colab.kernel.accessAllowed ? 'block' : 'none';\n",
              "    })();\n",
              "  </script>\n",
              "</div>\n",
              "    </div>\n",
              "  </div>\n"
            ]
          },
          "metadata": {},
          "execution_count": 5
        }
      ],
      "source": [
        "# Sample of the data from the top (first rows)\n",
        "df.head(5)"
      ]
    },
    {
      "cell_type": "code",
      "execution_count": null,
      "metadata": {
        "colab": {
          "base_uri": "https://localhost:8080/",
          "height": 283
        },
        "id": "1bGS7yAskaR3",
        "outputId": "01e4604f-a917-452b-b69e-218ac7b3b073"
      },
      "outputs": [
        {
          "output_type": "execute_result",
          "data": {
            "text/plain": [
              "      MONTH STORECODE  QTY  VALUE                       GRP  \\\n",
              "14255    M3       P10    0      0  SUGAR SUBSTITUTE (11/05)   \n",
              "14256    M3        P8    1     62  SUGAR SUBSTITUTE (11/05)   \n",
              "14257    M1        P6    0      0  SUGAR SUBSTITUTE (11/05)   \n",
              "14258    M1       P10    0      0  SUGAR SUBSTITUTE (11/05)   \n",
              "14259    M1        P8    1     62  SUGAR SUBSTITUTE (11/05)   \n",
              "\n",
              "                        SGRP                  SSGRP                 CMP  \\\n",
              "14255   POWDER (SUGAR SUBST)   POWDER (SUGAR SUBST)  ZYDUS WELLNESS LTD   \n",
              "14256  PELLETS (SUGAR SUBST)  PELLETS (SUGAR SUBST)  ZYDUS WELLNESS LTD   \n",
              "14257  PELLETS (SUGAR SUBST)  PELLETS (SUGAR SUBST)  ZYDUS WELLNESS LTD   \n",
              "14258   POWDER (SUGAR SUBST)   POWDER (SUGAR SUBST)  ZYDUS WELLNESS LTD   \n",
              "14259  PELLETS (SUGAR SUBST)  PELLETS (SUGAR SUBST)  ZYDUS WELLNESS LTD   \n",
              "\n",
              "             MBRD              BRD  \n",
              "14255  SUGAR FREE  SUGAR FREE GOLD  \n",
              "14256  SUGAR FREE  SUGAR FREE GOLD  \n",
              "14257  SUGAR FREE  SUGAR FREE GOLD  \n",
              "14258  SUGAR FREE  SUGAR FREE GOLD  \n",
              "14259  SUGAR FREE  SUGAR FREE GOLD  "
            ],
            "text/html": [
              "\n",
              "  <div id=\"df-7c75669f-9335-4d8a-afcc-fa9382b0a1b5\" class=\"colab-df-container\">\n",
              "    <div>\n",
              "<style scoped>\n",
              "    .dataframe tbody tr th:only-of-type {\n",
              "        vertical-align: middle;\n",
              "    }\n",
              "\n",
              "    .dataframe tbody tr th {\n",
              "        vertical-align: top;\n",
              "    }\n",
              "\n",
              "    .dataframe thead th {\n",
              "        text-align: right;\n",
              "    }\n",
              "</style>\n",
              "<table border=\"1\" class=\"dataframe\">\n",
              "  <thead>\n",
              "    <tr style=\"text-align: right;\">\n",
              "      <th></th>\n",
              "      <th>MONTH</th>\n",
              "      <th>STORECODE</th>\n",
              "      <th>QTY</th>\n",
              "      <th>VALUE</th>\n",
              "      <th>GRP</th>\n",
              "      <th>SGRP</th>\n",
              "      <th>SSGRP</th>\n",
              "      <th>CMP</th>\n",
              "      <th>MBRD</th>\n",
              "      <th>BRD</th>\n",
              "    </tr>\n",
              "  </thead>\n",
              "  <tbody>\n",
              "    <tr>\n",
              "      <th>14255</th>\n",
              "      <td>M3</td>\n",
              "      <td>P10</td>\n",
              "      <td>0</td>\n",
              "      <td>0</td>\n",
              "      <td>SUGAR SUBSTITUTE (11/05)</td>\n",
              "      <td>POWDER (SUGAR SUBST)</td>\n",
              "      <td>POWDER (SUGAR SUBST)</td>\n",
              "      <td>ZYDUS WELLNESS LTD</td>\n",
              "      <td>SUGAR FREE</td>\n",
              "      <td>SUGAR FREE GOLD</td>\n",
              "    </tr>\n",
              "    <tr>\n",
              "      <th>14256</th>\n",
              "      <td>M3</td>\n",
              "      <td>P8</td>\n",
              "      <td>1</td>\n",
              "      <td>62</td>\n",
              "      <td>SUGAR SUBSTITUTE (11/05)</td>\n",
              "      <td>PELLETS (SUGAR SUBST)</td>\n",
              "      <td>PELLETS (SUGAR SUBST)</td>\n",
              "      <td>ZYDUS WELLNESS LTD</td>\n",
              "      <td>SUGAR FREE</td>\n",
              "      <td>SUGAR FREE GOLD</td>\n",
              "    </tr>\n",
              "    <tr>\n",
              "      <th>14257</th>\n",
              "      <td>M1</td>\n",
              "      <td>P6</td>\n",
              "      <td>0</td>\n",
              "      <td>0</td>\n",
              "      <td>SUGAR SUBSTITUTE (11/05)</td>\n",
              "      <td>PELLETS (SUGAR SUBST)</td>\n",
              "      <td>PELLETS (SUGAR SUBST)</td>\n",
              "      <td>ZYDUS WELLNESS LTD</td>\n",
              "      <td>SUGAR FREE</td>\n",
              "      <td>SUGAR FREE GOLD</td>\n",
              "    </tr>\n",
              "    <tr>\n",
              "      <th>14258</th>\n",
              "      <td>M1</td>\n",
              "      <td>P10</td>\n",
              "      <td>0</td>\n",
              "      <td>0</td>\n",
              "      <td>SUGAR SUBSTITUTE (11/05)</td>\n",
              "      <td>POWDER (SUGAR SUBST)</td>\n",
              "      <td>POWDER (SUGAR SUBST)</td>\n",
              "      <td>ZYDUS WELLNESS LTD</td>\n",
              "      <td>SUGAR FREE</td>\n",
              "      <td>SUGAR FREE GOLD</td>\n",
              "    </tr>\n",
              "    <tr>\n",
              "      <th>14259</th>\n",
              "      <td>M1</td>\n",
              "      <td>P8</td>\n",
              "      <td>1</td>\n",
              "      <td>62</td>\n",
              "      <td>SUGAR SUBSTITUTE (11/05)</td>\n",
              "      <td>PELLETS (SUGAR SUBST)</td>\n",
              "      <td>PELLETS (SUGAR SUBST)</td>\n",
              "      <td>ZYDUS WELLNESS LTD</td>\n",
              "      <td>SUGAR FREE</td>\n",
              "      <td>SUGAR FREE GOLD</td>\n",
              "    </tr>\n",
              "  </tbody>\n",
              "</table>\n",
              "</div>\n",
              "    <div class=\"colab-df-buttons\">\n",
              "\n",
              "  <div class=\"colab-df-container\">\n",
              "    <button class=\"colab-df-convert\" onclick=\"convertToInteractive('df-7c75669f-9335-4d8a-afcc-fa9382b0a1b5')\"\n",
              "            title=\"Convert this dataframe to an interactive table.\"\n",
              "            style=\"display:none;\">\n",
              "\n",
              "  <svg xmlns=\"http://www.w3.org/2000/svg\" height=\"24px\" viewBox=\"0 -960 960 960\">\n",
              "    <path d=\"M120-120v-720h720v720H120Zm60-500h600v-160H180v160Zm220 220h160v-160H400v160Zm0 220h160v-160H400v160ZM180-400h160v-160H180v160Zm440 0h160v-160H620v160ZM180-180h160v-160H180v160Zm440 0h160v-160H620v160Z\"/>\n",
              "  </svg>\n",
              "    </button>\n",
              "\n",
              "  <style>\n",
              "    .colab-df-container {\n",
              "      display:flex;\n",
              "      gap: 12px;\n",
              "    }\n",
              "\n",
              "    .colab-df-convert {\n",
              "      background-color: #E8F0FE;\n",
              "      border: none;\n",
              "      border-radius: 50%;\n",
              "      cursor: pointer;\n",
              "      display: none;\n",
              "      fill: #1967D2;\n",
              "      height: 32px;\n",
              "      padding: 0 0 0 0;\n",
              "      width: 32px;\n",
              "    }\n",
              "\n",
              "    .colab-df-convert:hover {\n",
              "      background-color: #E2EBFA;\n",
              "      box-shadow: 0px 1px 2px rgba(60, 64, 67, 0.3), 0px 1px 3px 1px rgba(60, 64, 67, 0.15);\n",
              "      fill: #174EA6;\n",
              "    }\n",
              "\n",
              "    .colab-df-buttons div {\n",
              "      margin-bottom: 4px;\n",
              "    }\n",
              "\n",
              "    [theme=dark] .colab-df-convert {\n",
              "      background-color: #3B4455;\n",
              "      fill: #D2E3FC;\n",
              "    }\n",
              "\n",
              "    [theme=dark] .colab-df-convert:hover {\n",
              "      background-color: #434B5C;\n",
              "      box-shadow: 0px 1px 3px 1px rgba(0, 0, 0, 0.15);\n",
              "      filter: drop-shadow(0px 1px 2px rgba(0, 0, 0, 0.3));\n",
              "      fill: #FFFFFF;\n",
              "    }\n",
              "  </style>\n",
              "\n",
              "    <script>\n",
              "      const buttonEl =\n",
              "        document.querySelector('#df-7c75669f-9335-4d8a-afcc-fa9382b0a1b5 button.colab-df-convert');\n",
              "      buttonEl.style.display =\n",
              "        google.colab.kernel.accessAllowed ? 'block' : 'none';\n",
              "\n",
              "      async function convertToInteractive(key) {\n",
              "        const element = document.querySelector('#df-7c75669f-9335-4d8a-afcc-fa9382b0a1b5');\n",
              "        const dataTable =\n",
              "          await google.colab.kernel.invokeFunction('convertToInteractive',\n",
              "                                                    [key], {});\n",
              "        if (!dataTable) return;\n",
              "\n",
              "        const docLinkHtml = 'Like what you see? Visit the ' +\n",
              "          '<a target=\"_blank\" href=https://colab.research.google.com/notebooks/data_table.ipynb>data table notebook</a>'\n",
              "          + ' to learn more about interactive tables.';\n",
              "        element.innerHTML = '';\n",
              "        dataTable['output_type'] = 'display_data';\n",
              "        await google.colab.output.renderOutput(dataTable, element);\n",
              "        const docLink = document.createElement('div');\n",
              "        docLink.innerHTML = docLinkHtml;\n",
              "        element.appendChild(docLink);\n",
              "      }\n",
              "    </script>\n",
              "  </div>\n",
              "\n",
              "\n",
              "<div id=\"df-1014ddb4-75bb-4c52-bea3-9562bb13c9a6\">\n",
              "  <button class=\"colab-df-quickchart\" onclick=\"quickchart('df-1014ddb4-75bb-4c52-bea3-9562bb13c9a6')\"\n",
              "            title=\"Suggest charts.\"\n",
              "            style=\"display:none;\">\n",
              "\n",
              "<svg xmlns=\"http://www.w3.org/2000/svg\" height=\"24px\"viewBox=\"0 0 24 24\"\n",
              "     width=\"24px\">\n",
              "    <g>\n",
              "        <path d=\"M19 3H5c-1.1 0-2 .9-2 2v14c0 1.1.9 2 2 2h14c1.1 0 2-.9 2-2V5c0-1.1-.9-2-2-2zM9 17H7v-7h2v7zm4 0h-2V7h2v10zm4 0h-2v-4h2v4z\"/>\n",
              "    </g>\n",
              "</svg>\n",
              "  </button>\n",
              "\n",
              "<style>\n",
              "  .colab-df-quickchart {\n",
              "      --bg-color: #E8F0FE;\n",
              "      --fill-color: #1967D2;\n",
              "      --hover-bg-color: #E2EBFA;\n",
              "      --hover-fill-color: #174EA6;\n",
              "      --disabled-fill-color: #AAA;\n",
              "      --disabled-bg-color: #DDD;\n",
              "  }\n",
              "\n",
              "  [theme=dark] .colab-df-quickchart {\n",
              "      --bg-color: #3B4455;\n",
              "      --fill-color: #D2E3FC;\n",
              "      --hover-bg-color: #434B5C;\n",
              "      --hover-fill-color: #FFFFFF;\n",
              "      --disabled-bg-color: #3B4455;\n",
              "      --disabled-fill-color: #666;\n",
              "  }\n",
              "\n",
              "  .colab-df-quickchart {\n",
              "    background-color: var(--bg-color);\n",
              "    border: none;\n",
              "    border-radius: 50%;\n",
              "    cursor: pointer;\n",
              "    display: none;\n",
              "    fill: var(--fill-color);\n",
              "    height: 32px;\n",
              "    padding: 0;\n",
              "    width: 32px;\n",
              "  }\n",
              "\n",
              "  .colab-df-quickchart:hover {\n",
              "    background-color: var(--hover-bg-color);\n",
              "    box-shadow: 0 1px 2px rgba(60, 64, 67, 0.3), 0 1px 3px 1px rgba(60, 64, 67, 0.15);\n",
              "    fill: var(--button-hover-fill-color);\n",
              "  }\n",
              "\n",
              "  .colab-df-quickchart-complete:disabled,\n",
              "  .colab-df-quickchart-complete:disabled:hover {\n",
              "    background-color: var(--disabled-bg-color);\n",
              "    fill: var(--disabled-fill-color);\n",
              "    box-shadow: none;\n",
              "  }\n",
              "\n",
              "  .colab-df-spinner {\n",
              "    border: 2px solid var(--fill-color);\n",
              "    border-color: transparent;\n",
              "    border-bottom-color: var(--fill-color);\n",
              "    animation:\n",
              "      spin 1s steps(1) infinite;\n",
              "  }\n",
              "\n",
              "  @keyframes spin {\n",
              "    0% {\n",
              "      border-color: transparent;\n",
              "      border-bottom-color: var(--fill-color);\n",
              "      border-left-color: var(--fill-color);\n",
              "    }\n",
              "    20% {\n",
              "      border-color: transparent;\n",
              "      border-left-color: var(--fill-color);\n",
              "      border-top-color: var(--fill-color);\n",
              "    }\n",
              "    30% {\n",
              "      border-color: transparent;\n",
              "      border-left-color: var(--fill-color);\n",
              "      border-top-color: var(--fill-color);\n",
              "      border-right-color: var(--fill-color);\n",
              "    }\n",
              "    40% {\n",
              "      border-color: transparent;\n",
              "      border-right-color: var(--fill-color);\n",
              "      border-top-color: var(--fill-color);\n",
              "    }\n",
              "    60% {\n",
              "      border-color: transparent;\n",
              "      border-right-color: var(--fill-color);\n",
              "    }\n",
              "    80% {\n",
              "      border-color: transparent;\n",
              "      border-right-color: var(--fill-color);\n",
              "      border-bottom-color: var(--fill-color);\n",
              "    }\n",
              "    90% {\n",
              "      border-color: transparent;\n",
              "      border-bottom-color: var(--fill-color);\n",
              "    }\n",
              "  }\n",
              "</style>\n",
              "\n",
              "  <script>\n",
              "    async function quickchart(key) {\n",
              "      const quickchartButtonEl =\n",
              "        document.querySelector('#' + key + ' button');\n",
              "      quickchartButtonEl.disabled = true;  // To prevent multiple clicks.\n",
              "      quickchartButtonEl.classList.add('colab-df-spinner');\n",
              "      try {\n",
              "        const charts = await google.colab.kernel.invokeFunction(\n",
              "            'suggestCharts', [key], {});\n",
              "      } catch (error) {\n",
              "        console.error('Error during call to suggestCharts:', error);\n",
              "      }\n",
              "      quickchartButtonEl.classList.remove('colab-df-spinner');\n",
              "      quickchartButtonEl.classList.add('colab-df-quickchart-complete');\n",
              "    }\n",
              "    (() => {\n",
              "      let quickchartButtonEl =\n",
              "        document.querySelector('#df-1014ddb4-75bb-4c52-bea3-9562bb13c9a6 button');\n",
              "      quickchartButtonEl.style.display =\n",
              "        google.colab.kernel.accessAllowed ? 'block' : 'none';\n",
              "    })();\n",
              "  </script>\n",
              "</div>\n",
              "    </div>\n",
              "  </div>\n"
            ]
          },
          "metadata": {},
          "execution_count": 6
        }
      ],
      "source": [
        "# Sample of the data from the end (last rows)\n",
        "df.tail(5)"
      ]
    },
    {
      "cell_type": "code",
      "execution_count": null,
      "metadata": {
        "colab": {
          "base_uri": "https://localhost:8080/"
        },
        "id": "gEjr5y2oEhhs",
        "outputId": "ffa36d76-281e-405f-9f20-15e256f5e2a2"
      },
      "outputs": [
        {
          "output_type": "execute_result",
          "data": {
            "text/plain": [
              "(14260, 10)"
            ]
          },
          "metadata": {},
          "execution_count": 7
        }
      ],
      "source": [
        "# Shape, to get the data dimensionality (number of rows and columns, respectively)\n",
        "df.shape"
      ]
    },
    {
      "cell_type": "code",
      "execution_count": null,
      "metadata": {
        "colab": {
          "base_uri": "https://localhost:8080/",
          "height": 297
        },
        "id": "XQNm4d6OFAZP",
        "outputId": "20f7e573-e598-4b09-fe9d-640ce177067b"
      },
      "outputs": [
        {
          "data": {
            "text/html": [
              "\n",
              "\n",
              "  <div id=\"df-57ed857d-3026-4747-83bb-6f9856f7294c\">\n",
              "    <div class=\"colab-df-container\">\n",
              "      <div>\n",
              "<style scoped>\n",
              "    .dataframe tbody tr th:only-of-type {\n",
              "        vertical-align: middle;\n",
              "    }\n",
              "\n",
              "    .dataframe tbody tr th {\n",
              "        vertical-align: top;\n",
              "    }\n",
              "\n",
              "    .dataframe thead th {\n",
              "        text-align: right;\n",
              "    }\n",
              "</style>\n",
              "<table border=\"1\" class=\"dataframe\">\n",
              "  <thead>\n",
              "    <tr style=\"text-align: right;\">\n",
              "      <th></th>\n",
              "      <th>QTY</th>\n",
              "      <th>VALUE</th>\n",
              "    </tr>\n",
              "  </thead>\n",
              "  <tbody>\n",
              "    <tr>\n",
              "      <th>count</th>\n",
              "      <td>14260.000000</td>\n",
              "      <td>14260.000000</td>\n",
              "    </tr>\n",
              "    <tr>\n",
              "      <th>mean</th>\n",
              "      <td>16.354488</td>\n",
              "      <td>294.455330</td>\n",
              "    </tr>\n",
              "    <tr>\n",
              "      <th>std</th>\n",
              "      <td>34.365583</td>\n",
              "      <td>760.129558</td>\n",
              "    </tr>\n",
              "    <tr>\n",
              "      <th>min</th>\n",
              "      <td>0.000000</td>\n",
              "      <td>0.000000</td>\n",
              "    </tr>\n",
              "    <tr>\n",
              "      <th>25%</th>\n",
              "      <td>1.000000</td>\n",
              "      <td>10.000000</td>\n",
              "    </tr>\n",
              "    <tr>\n",
              "      <th>50%</th>\n",
              "      <td>4.000000</td>\n",
              "      <td>99.000000</td>\n",
              "    </tr>\n",
              "    <tr>\n",
              "      <th>75%</th>\n",
              "      <td>16.000000</td>\n",
              "      <td>283.000000</td>\n",
              "    </tr>\n",
              "    <tr>\n",
              "      <th>max</th>\n",
              "      <td>641.000000</td>\n",
              "      <td>24185.000000</td>\n",
              "    </tr>\n",
              "  </tbody>\n",
              "</table>\n",
              "</div>\n",
              "      <button class=\"colab-df-convert\" onclick=\"convertToInteractive('df-57ed857d-3026-4747-83bb-6f9856f7294c')\"\n",
              "              title=\"Convert this dataframe to an interactive table.\"\n",
              "              style=\"display:none;\">\n",
              "\n",
              "  <svg xmlns=\"http://www.w3.org/2000/svg\" height=\"24px\"viewBox=\"0 0 24 24\"\n",
              "       width=\"24px\">\n",
              "    <path d=\"M0 0h24v24H0V0z\" fill=\"none\"/>\n",
              "    <path d=\"M18.56 5.44l.94 2.06.94-2.06 2.06-.94-2.06-.94-.94-2.06-.94 2.06-2.06.94zm-11 1L8.5 8.5l.94-2.06 2.06-.94-2.06-.94L8.5 2.5l-.94 2.06-2.06.94zm10 10l.94 2.06.94-2.06 2.06-.94-2.06-.94-.94-2.06-.94 2.06-2.06.94z\"/><path d=\"M17.41 7.96l-1.37-1.37c-.4-.4-.92-.59-1.43-.59-.52 0-1.04.2-1.43.59L10.3 9.45l-7.72 7.72c-.78.78-.78 2.05 0 2.83L4 21.41c.39.39.9.59 1.41.59.51 0 1.02-.2 1.41-.59l7.78-7.78 2.81-2.81c.8-.78.8-2.07 0-2.86zM5.41 20L4 18.59l7.72-7.72 1.47 1.35L5.41 20z\"/>\n",
              "  </svg>\n",
              "      </button>\n",
              "\n",
              "\n",
              "\n",
              "    <div id=\"df-8d14cf98-4251-46d1-abaa-863136a9bdee\">\n",
              "      <button class=\"colab-df-quickchart\" onclick=\"quickchart('df-8d14cf98-4251-46d1-abaa-863136a9bdee')\"\n",
              "              title=\"Suggest charts.\"\n",
              "              style=\"display:none;\">\n",
              "\n",
              "<svg xmlns=\"http://www.w3.org/2000/svg\" height=\"24px\"viewBox=\"0 0 24 24\"\n",
              "     width=\"24px\">\n",
              "    <g>\n",
              "        <path d=\"M19 3H5c-1.1 0-2 .9-2 2v14c0 1.1.9 2 2 2h14c1.1 0 2-.9 2-2V5c0-1.1-.9-2-2-2zM9 17H7v-7h2v7zm4 0h-2V7h2v10zm4 0h-2v-4h2v4z\"/>\n",
              "    </g>\n",
              "</svg>\n",
              "      </button>\n",
              "    </div>\n",
              "\n",
              "<style>\n",
              "  .colab-df-quickchart {\n",
              "    background-color: #E8F0FE;\n",
              "    border: none;\n",
              "    border-radius: 50%;\n",
              "    cursor: pointer;\n",
              "    display: none;\n",
              "    fill: #1967D2;\n",
              "    height: 32px;\n",
              "    padding: 0 0 0 0;\n",
              "    width: 32px;\n",
              "  }\n",
              "\n",
              "  .colab-df-quickchart:hover {\n",
              "    background-color: #E2EBFA;\n",
              "    box-shadow: 0px 1px 2px rgba(60, 64, 67, 0.3), 0px 1px 3px 1px rgba(60, 64, 67, 0.15);\n",
              "    fill: #174EA6;\n",
              "  }\n",
              "\n",
              "  [theme=dark] .colab-df-quickchart {\n",
              "    background-color: #3B4455;\n",
              "    fill: #D2E3FC;\n",
              "  }\n",
              "\n",
              "  [theme=dark] .colab-df-quickchart:hover {\n",
              "    background-color: #434B5C;\n",
              "    box-shadow: 0px 1px 3px 1px rgba(0, 0, 0, 0.15);\n",
              "    filter: drop-shadow(0px 1px 2px rgba(0, 0, 0, 0.3));\n",
              "    fill: #FFFFFF;\n",
              "  }\n",
              "</style>\n",
              "\n",
              "    <script>\n",
              "      async function quickchart(key) {\n",
              "        const containerElement = document.querySelector('#' + key);\n",
              "        const charts = await google.colab.kernel.invokeFunction(\n",
              "            'suggestCharts', [key], {});\n",
              "      }\n",
              "    </script>\n",
              "\n",
              "      <script>\n",
              "\n",
              "function displayQuickchartButton(domScope) {\n",
              "  let quickchartButtonEl =\n",
              "    domScope.querySelector('#df-8d14cf98-4251-46d1-abaa-863136a9bdee button.colab-df-quickchart');\n",
              "  quickchartButtonEl.style.display =\n",
              "    google.colab.kernel.accessAllowed ? 'block' : 'none';\n",
              "}\n",
              "\n",
              "        displayQuickchartButton(document);\n",
              "      </script>\n",
              "      <style>\n",
              "    .colab-df-container {\n",
              "      display:flex;\n",
              "      flex-wrap:wrap;\n",
              "      gap: 12px;\n",
              "    }\n",
              "\n",
              "    .colab-df-convert {\n",
              "      background-color: #E8F0FE;\n",
              "      border: none;\n",
              "      border-radius: 50%;\n",
              "      cursor: pointer;\n",
              "      display: none;\n",
              "      fill: #1967D2;\n",
              "      height: 32px;\n",
              "      padding: 0 0 0 0;\n",
              "      width: 32px;\n",
              "    }\n",
              "\n",
              "    .colab-df-convert:hover {\n",
              "      background-color: #E2EBFA;\n",
              "      box-shadow: 0px 1px 2px rgba(60, 64, 67, 0.3), 0px 1px 3px 1px rgba(60, 64, 67, 0.15);\n",
              "      fill: #174EA6;\n",
              "    }\n",
              "\n",
              "    [theme=dark] .colab-df-convert {\n",
              "      background-color: #3B4455;\n",
              "      fill: #D2E3FC;\n",
              "    }\n",
              "\n",
              "    [theme=dark] .colab-df-convert:hover {\n",
              "      background-color: #434B5C;\n",
              "      box-shadow: 0px 1px 3px 1px rgba(0, 0, 0, 0.15);\n",
              "      filter: drop-shadow(0px 1px 2px rgba(0, 0, 0, 0.3));\n",
              "      fill: #FFFFFF;\n",
              "    }\n",
              "  </style>\n",
              "\n",
              "      <script>\n",
              "        const buttonEl =\n",
              "          document.querySelector('#df-57ed857d-3026-4747-83bb-6f9856f7294c button.colab-df-convert');\n",
              "        buttonEl.style.display =\n",
              "          google.colab.kernel.accessAllowed ? 'block' : 'none';\n",
              "\n",
              "        async function convertToInteractive(key) {\n",
              "          const element = document.querySelector('#df-57ed857d-3026-4747-83bb-6f9856f7294c');\n",
              "          const dataTable =\n",
              "            await google.colab.kernel.invokeFunction('convertToInteractive',\n",
              "                                                     [key], {});\n",
              "          if (!dataTable) return;\n",
              "\n",
              "          const docLinkHtml = 'Like what you see? Visit the ' +\n",
              "            '<a target=\"_blank\" href=https://colab.research.google.com/notebooks/data_table.ipynb>data table notebook</a>'\n",
              "            + ' to learn more about interactive tables.';\n",
              "          element.innerHTML = '';\n",
              "          dataTable['output_type'] = 'display_data';\n",
              "          await google.colab.output.renderOutput(dataTable, element);\n",
              "          const docLink = document.createElement('div');\n",
              "          docLink.innerHTML = docLinkHtml;\n",
              "          element.appendChild(docLink);\n",
              "        }\n",
              "      </script>\n",
              "    </div>\n",
              "  </div>\n"
            ],
            "text/plain": [
              "                QTY         VALUE\n",
              "count  14260.000000  14260.000000\n",
              "mean      16.354488    294.455330\n",
              "std       34.365583    760.129558\n",
              "min        0.000000      0.000000\n",
              "25%        1.000000     10.000000\n",
              "50%        4.000000     99.000000\n",
              "75%       16.000000    283.000000\n",
              "max      641.000000  24185.000000"
            ]
          },
          "execution_count": 9,
          "metadata": {},
          "output_type": "execute_result"
        }
      ],
      "source": [
        "# Describe, to get information about the dataset\n",
        "df.describe()"
      ]
    },
    {
      "cell_type": "code",
      "execution_count": null,
      "metadata": {
        "colab": {
          "base_uri": "https://localhost:8080/"
        },
        "id": "SnK7SiGsFaX_",
        "outputId": "e4394efc-f46d-4426-d7bf-26bc8c53c1f2"
      },
      "outputs": [
        {
          "output_type": "stream",
          "name": "stdout",
          "text": [
            "<class 'pandas.core.frame.DataFrame'>\n",
            "RangeIndex: 14260 entries, 0 to 14259\n",
            "Data columns (total 10 columns):\n",
            " #   Column     Non-Null Count  Dtype \n",
            "---  ------     --------------  ----- \n",
            " 0   MONTH      14260 non-null  object\n",
            " 1   STORECODE  14260 non-null  object\n",
            " 2   QTY        14260 non-null  int64 \n",
            " 3   VALUE      14260 non-null  int64 \n",
            " 4   GRP        14260 non-null  object\n",
            " 5   SGRP       14260 non-null  object\n",
            " 6   SSGRP      14260 non-null  object\n",
            " 7   CMP        14260 non-null  object\n",
            " 8   MBRD       14260 non-null  object\n",
            " 9   BRD        14260 non-null  object\n",
            "dtypes: int64(2), object(8)\n",
            "memory usage: 1.1+ MB\n"
          ]
        }
      ],
      "source": [
        "# Info, a short summary of the dataset (type of data, missing (null) values and memory consumption)\n",
        "df.info()"
      ]
    },
    {
      "cell_type": "code",
      "execution_count": null,
      "metadata": {
        "id": "j8JcAkdKkDTE"
      },
      "outputs": [],
      "source": [
        "# Order your data\n",
        "df = df.sort_values(by=[\"MONTH\", \"STORECODE\", \"QTY\"], ascending=False)"
      ]
    },
    {
      "cell_type": "markdown",
      "metadata": {
        "id": "x0hVX_ISgQsE"
      },
      "source": [
        "<b> STEP 3: </b> Data Cleaning\n",
        "\n",
        "Questions to ask ourselves:\n",
        "- Do we like the naming convention of the columns? Can we change that?\n",
        "- Are there useless variables or repeated ones?\n",
        "- Are there column with no variance at all? If yes, what to do with that?"
      ]
    },
    {
      "cell_type": "code",
      "execution_count": null,
      "metadata": {
        "id": "2Bq34S7Oiu16"
      },
      "outputs": [],
      "source": [
        "# Do we like the naming convention?\n",
        "# Selection and renaming of relevant columns\n",
        "list_rel_cols = [\"MONTH\", \"STORECODE\", \"QTY\", \"VALUE\", \"GRP\", \"CMP\", \"MBRD\"]\n",
        "df_red = df[list_rel_cols]\n",
        "df_red = df_red.rename(\n",
        "  columns={\"MBRD\": \"BRAND\"}\n",
        ")"
      ]
    },
    {
      "cell_type": "code",
      "execution_count": null,
      "metadata": {
        "colab": {
          "base_uri": "https://localhost:8080/"
        },
        "id": "0FerkcmIHOOs",
        "outputId": "3efed7dc-7ef2-4e00-804c-1fbdbc2989ef"
      },
      "outputs": [
        {
          "output_type": "execute_result",
          "data": {
            "text/plain": [
              "0"
            ]
          },
          "metadata": {},
          "execution_count": 11
        }
      ],
      "source": [
        "# Are there duplicate columns?\n",
        "df.duplicated().sum()"
      ]
    },
    {
      "cell_type": "code",
      "execution_count": null,
      "metadata": {
        "colab": {
          "base_uri": "https://localhost:8080/"
        },
        "id": "1_GVsvnfgQsG",
        "outputId": "c322a2d4-d393-42d7-8381-d5993e7cab63"
      },
      "outputs": [
        {
          "output_type": "execute_result",
          "data": {
            "text/plain": [
              "MONTH        0\n",
              "STORECODE    0\n",
              "QTY          0\n",
              "VALUE        0\n",
              "GRP          0\n",
              "SGRP         0\n",
              "SSGRP        0\n",
              "CMP          0\n",
              "MBRD         0\n",
              "BRD          0\n",
              "dtype: int64"
            ]
          },
          "metadata": {},
          "execution_count": 12
        }
      ],
      "source": [
        "# Are there missing values?\n",
        "df.isnull().sum()"
      ]
    },
    {
      "cell_type": "markdown",
      "metadata": {
        "id": "OeJG8jCJmkeb"
      },
      "source": [
        "# <b style='color:#FF00FF;'>Data Understanding: a visual deep dive </b>"
      ]
    },
    {
      "cell_type": "markdown",
      "metadata": {
        "id": "j0JxQCCXncTW"
      },
      "source": [
        "## <b style='color:#AA336A;'>Categorical Features </b>"
      ]
    },
    {
      "cell_type": "code",
      "execution_count": null,
      "metadata": {
        "colab": {
          "base_uri": "https://localhost:8080/"
        },
        "id": "BnKfJoHkmnVO",
        "outputId": "c1db4779-da1a-48b0-8bc8-0fc8c2b77031"
      },
      "outputs": [
        {
          "output_type": "execute_result",
          "data": {
            "text/plain": [
              "MONTH\n",
              "M2       4816\n",
              "M1       4804\n",
              "M3       4640\n",
              "dtype: int64"
            ]
          },
          "metadata": {},
          "execution_count": 15
        }
      ],
      "source": [
        "# What is the timespan of the analysis?\n",
        "\n",
        "df_red.value_counts(subset=[\"MONTH\"])"
      ]
    },
    {
      "cell_type": "code",
      "execution_count": null,
      "metadata": {
        "colab": {
          "base_uri": "https://localhost:8080/"
        },
        "id": "hpb04KU4IuO9",
        "outputId": "b1ea042b-472b-4640-8cce-4b915beb118b"
      },
      "outputs": [
        {
          "output_type": "execute_result",
          "data": {
            "text/plain": [
              "MONTH\n",
              "M2       0.337728\n",
              "M1       0.336886\n",
              "M3       0.325386\n",
              "dtype: float64"
            ]
          },
          "metadata": {},
          "execution_count": 16
        }
      ],
      "source": [
        "# Can we express that data in %? Make use of the parameter normalize=True\n",
        "\n",
        "df_red.value_counts(subset=[\"MONTH\"], normalize=True)"
      ]
    },
    {
      "cell_type": "code",
      "execution_count": null,
      "metadata": {
        "colab": {
          "base_uri": "https://localhost:8080/",
          "height": 471
        },
        "id": "qinQVDpuI8ws",
        "outputId": "dcd487fb-9d4e-44bb-8792-299c86f59313"
      },
      "outputs": [
        {
          "output_type": "display_data",
          "data": {
            "text/plain": [
              "<Figure size 640x480 with 1 Axes>"
            ],
            "image/png": "[encoded data removed]"
          },
          "metadata": {}
        }
      ],
      "source": [
        "# Aggiungiamo un grafico (a seconda della colonna che andremo a plottare ha senso dare un ordine):\n",
        "\n",
        "df.MONTH.value_counts().plot(kind=\"bar\")\n",
        "plt.title(\"Conteggio valori della variabile MONTH\")\n",
        "plt.xlabel(\"Mese\")\n",
        "plt.xticks(rotation=0)\n",
        "plt.ylabel(\"Conteggio\")\n",
        "plt.show()"
      ]
    },
    {
      "cell_type": "code",
      "execution_count": null,
      "metadata": {
        "colab": {
          "base_uri": "https://localhost:8080/"
        },
        "id": "vsxh10PDnJ1u",
        "outputId": "c6d56feb-acb6-4f0f-b564-6da57d23e1f1"
      },
      "outputs": [
        {
          "output_type": "execute_result",
          "data": {
            "text/plain": [
              "BRAND         \n",
              "EVEREST           583\n",
              "DOVE              302\n",
              "HALDIRAM          190\n",
              "LIFEBUOY          190\n",
              "LUX               176\n",
              "                 ... \n",
              "COCOPLUS            1\n",
              "PRABHU DARSHAN      1\n",
              "ABHISHEK            1\n",
              "COFFY BITE          1\n",
              "PARLE KISMI         1\n",
              "Length: 818, dtype: int64"
            ]
          },
          "metadata": {},
          "execution_count": 18
        }
      ],
      "source": [
        "# How many brands do we have?\n",
        "\n",
        "df_red.value_counts(subset=[\"BRAND\"])"
      ]
    },
    {
      "cell_type": "code",
      "execution_count": null,
      "metadata": {
        "colab": {
          "base_uri": "https://localhost:8080/"
        },
        "id": "KUfQXtgCm8c7",
        "outputId": "aae89ea5-70df-42eb-f575-d6505ba60066"
      },
      "outputs": [
        {
          "output_type": "execute_result",
          "data": {
            "text/plain": [
              "STORECODE\n",
              "P8           2642\n",
              "P6           2097\n",
              "P10          1508\n",
              "P2           1471\n",
              "P4           1454\n",
              "P3           1362\n",
              "P9           1188\n",
              "P1           1061\n",
              "P7            850\n",
              "P5            627\n",
              "dtype: int64"
            ]
          },
          "metadata": {},
          "execution_count": 19
        }
      ],
      "source": [
        "# How many stores do we have?\n",
        "\n",
        "df_red.value_counts(subset=[\"STORECODE\"])"
      ]
    },
    {
      "cell_type": "code",
      "execution_count": null,
      "metadata": {
        "colab": {
          "base_uri": "https://localhost:8080/",
          "height": 464
        },
        "id": "5j5y3Ahcnvzj",
        "outputId": "0a554ba4-27b8-45d5-de82-fad13debdf2a"
      },
      "outputs": [
        {
          "output_type": "execute_result",
          "data": {
            "text/plain": [
              "<Axes: xlabel='STORECODE', ylabel='count'>"
            ]
          },
          "metadata": {},
          "execution_count": 23
        },
        {
          "output_type": "display_data",
          "data": {
            "text/plain": [
              "<Figure size 640x480 with 1 Axes>"
            ],
            "image/png": "[encoded data removed]"
          },
          "metadata": {}
        }
      ],
      "source": [
        "# Can we compare them in a plot?\n",
        "\n",
        "sns.countplot(data=df_red, x=\"STORECODE\", palette=sns.color_palette(\"pastel\"))"
      ]
    },
    {
      "cell_type": "code",
      "source": [
        "# Can we compare them in a plot with months detail?\n",
        "\n",
        "sns.countplot(data=df_red, y=\"STORECODE\", hue=\"MONTH\", palette=sns.color_palette(\"flare\"))"
      ],
      "metadata": {
        "colab": {
          "base_uri": "https://localhost:8080/",
          "height": 464
        },
        "id": "7hyOyrFcofWj",
        "outputId": "8bf59dc3-9640-4698-9eb3-b9efd31bad67"
      },
      "execution_count": null,
      "outputs": [
        {
          "output_type": "execute_result",
          "data": {
            "text/plain": [
              "<Axes: xlabel='count', ylabel='STORECODE'>"
            ]
          },
          "metadata": {},
          "execution_count": 24
        },
        {
          "output_type": "display_data",
          "data": {
            "text/plain": [
              "<Figure size 640x480 with 1 Axes>"
            ],
            "image/png": "[encoded data removed]"
          },
          "metadata": {}
        }
      ]
    },
    {
      "cell_type": "code",
      "execution_count": null,
      "metadata": {
        "colab": {
          "base_uri": "https://localhost:8080/"
        },
        "id": "rUf4iUBknAcy",
        "outputId": "535104bc-af50-49bb-ddd2-e00400806388"
      },
      "outputs": [
        {
          "output_type": "execute_result",
          "data": {
            "text/plain": [
              "STORECODE  BRAND   \n",
              "P8         HALDIRAM    76\n",
              "P3         EVEREST     68\n",
              "P6         HALDIRAM    66\n",
              "P7         EVEREST     64\n",
              "P1         EVEREST     63\n",
              "                       ..\n",
              "P6         GO           1\n",
              "P2         GILLETTE     1\n",
              "P6         DRAIN IT     1\n",
              "P10        ARIEL        1\n",
              "P3         MARGO        1\n",
              "Length: 2648, dtype: int64"
            ]
          },
          "metadata": {},
          "execution_count": 25
        }
      ],
      "source": [
        "# Is there a common association of store and brand?\n",
        "\n",
        "df_red.value_counts(subset=[\"STORECODE\", \"BRAND\"])"
      ]
    },
    {
      "cell_type": "markdown",
      "metadata": {
        "id": "tv6sev_ynhRD"
      },
      "source": [
        "## <b style='color:#AA336A;'> Numerical Features </b>"
      ]
    },
    {
      "cell_type": "code",
      "execution_count": null,
      "metadata": {
        "colab": {
          "base_uri": "https://localhost:8080/",
          "height": 449
        },
        "id": "ZS9O3jq0KI5d",
        "outputId": "e1f41215-6c08-4eb8-dfb3-c3a370d573a0",
        "scrolled": true
      },
      "outputs": [
        {
          "output_type": "execute_result",
          "data": {
            "text/plain": [
              "<Axes: >"
            ]
          },
          "metadata": {},
          "execution_count": 26
        },
        {
          "output_type": "display_data",
          "data": {
            "text/plain": [
              "<Figure size 640x480 with 1 Axes>"
            ],
            "image/png": "[encoded data removed]"
          },
          "metadata": {}
        }
      ],
      "source": [
        "# Plot the distribution of a numerical feature\n",
        "\n",
        "df_red.QTY.hist()"
      ]
    },
    {
      "cell_type": "code",
      "source": [
        "# Plot the distribution of a numerical feature with an highet number of bins\n",
        "\n",
        "df_red.QTY.hist(bins=100)"
      ],
      "metadata": {
        "colab": {
          "base_uri": "https://localhost:8080/",
          "height": 445
        },
        "id": "79dqKwHspLah",
        "outputId": "e9686bb8-4038-4c83-cae3-f69217619bc2"
      },
      "execution_count": null,
      "outputs": [
        {
          "output_type": "execute_result",
          "data": {
            "text/plain": [
              "<Axes: >"
            ]
          },
          "metadata": {},
          "execution_count": 29
        },
        {
          "output_type": "display_data",
          "data": {
            "text/plain": [
              "<Figure size 640x480 with 1 Axes>"
            ],
            "image/png": "[encoded data removed]"
          },
          "metadata": {}
        }
      ]
    },
    {
      "cell_type": "code",
      "source": [
        "# Plot the distribution of a numerical feature split by month, keeping only QTY < 100\n",
        "\n",
        "df_red.loc[df_red[\"QTY\"] < 100].hist(column=\"QTY\", bins=10, by=\"MONTH\")"
      ],
      "metadata": {
        "colab": {
          "base_uri": "https://localhost:8080/",
          "height": 487
        },
        "id": "EiIiVkO7pek9",
        "outputId": "21b85a0e-a16b-491e-a28f-de5ba42949b9"
      },
      "execution_count": null,
      "outputs": [
        {
          "output_type": "execute_result",
          "data": {
            "text/plain": [
              "array([[<Axes: title={'center': 'M1'}>, <Axes: title={'center': 'M2'}>],\n",
              "       [<Axes: title={'center': 'M3'}>, <Axes: >]], dtype=object)"
            ]
          },
          "metadata": {},
          "execution_count": 35
        },
        {
          "output_type": "display_data",
          "data": {
            "text/plain": [
              "<Figure size 640x480 with 4 Axes>"
            ],
            "image/png": "[encoded data removed]"
          },
          "metadata": {}
        }
      ]
    },
    {
      "cell_type": "code",
      "execution_count": null,
      "metadata": {
        "colab": {
          "base_uri": "https://localhost:8080/"
        },
        "id": "_mCJNy3_gQsK",
        "outputId": "62ba24db-a0e7-40b6-ba6b-30891df4e03d"
      },
      "outputs": [
        {
          "output_type": "stream",
          "name": "stdout",
          "text": [
            "Media: 16.354488078541376\n",
            "Mediana: 4.0\n",
            "Deviazione standard: 34.365582663643224\n"
          ]
        }
      ],
      "source": [
        "# Calcoliamo media, mediana e dev standard della variabile\n",
        "print(f\"Media: {df_red['QTY'].mean()}\")\n",
        "print(f\"Mediana: {df_red['QTY'].median()}\")\n",
        "print(f\"Deviazione standard: {df_red['QTY'].std()}\")"
      ]
    },
    {
      "cell_type": "code",
      "execution_count": null,
      "metadata": {
        "colab": {
          "base_uri": "https://localhost:8080/"
        },
        "id": "Vyv7yIaOKYjk",
        "outputId": "dcb41686-8755-4a2b-e555-212f7fce9f2c"
      },
      "outputs": [
        {
          "output_type": "stream",
          "name": "stdout",
          "text": [
            "Curtosi: 51.73488584811271\n",
            "Asimmetria: 5.537580454416803\n"
          ]
        }
      ],
      "source": [
        "# Valutiamo curtosi e asimmetria della distribuzione\n",
        "print(f\"Curtosi: {df_red['QTY'].kurt()}\")\n",
        "print(f\"Asimmetria: {df_red['QTY'].skew()}\")"
      ]
    },
    {
      "cell_type": "code",
      "execution_count": null,
      "metadata": {
        "colab": {
          "base_uri": "https://localhost:8080/",
          "height": 529
        },
        "id": "cQFjROOaKry6",
        "outputId": "740391d9-d2e2-4bc0-d583-66f66eb991a3"
      },
      "outputs": [
        {
          "output_type": "execute_result",
          "data": {
            "text/plain": [
              "<seaborn.axisgrid.PairGrid at 0x7833d5a20520>"
            ]
          },
          "metadata": {},
          "execution_count": 38
        },
        {
          "output_type": "display_data",
          "data": {
            "text/plain": [
              "<Figure size 500x500 with 6 Axes>"
            ],
            "image/png": "[encoded data removed]"
          },
          "metadata": {}
        }
      ],
      "source": [
        "# studio delle relazione tra variabili\n",
        "sns.pairplot(df_red)"
      ]
    },
    {
      "cell_type": "code",
      "execution_count": null,
      "metadata": {
        "colab": {
          "base_uri": "https://localhost:8080/",
          "height": 528
        },
        "id": "rzrdYzhxLW38",
        "outputId": "ef7864a1-d6d2-4938-f8f5-30fbfe51f1bc"
      },
      "outputs": [
        {
          "output_type": "display_data",
          "data": {
            "text/plain": [
              "<Figure size 750x500 with 1 Axes>"
            ],
            "image/png": "[encoded data removed]"
          },
          "metadata": {}
        }
      ],
      "source": [
        "# Comprendere la relazione tra una variabile numerica e variabile categoriale attraverso un boxplot (con il dataset definitivo andrà fatto uno storytelling per dare un senso alla sequenza di step)\n",
        "\n",
        "sns.catplot(x=\"MONTH\", y=\"QTY\", data=df, kind=\"box\", aspect=1.5)\n",
        "plt.title(\"Boxplot per mese e quantità\")\n",
        "plt.show()"
      ]
    },
    {
      "cell_type": "code",
      "execution_count": null,
      "metadata": {
        "colab": {
          "base_uri": "https://localhost:8080/",
          "height": 472
        },
        "id": "CPIs_TXSL40-",
        "outputId": "d1047e41-aeb7-4bb5-a141-6e7e7ed099b0"
      },
      "outputs": [
        {
          "data": {
            "image/png": "[encoded data removed]",
            "text/plain": [
              "<Figure size 640x480 with 1 Axes>"
            ]
          },
          "metadata": {},
          "output_type": "display_data"
        }
      ],
      "source": [
        "# Grafico per specificare a quale mese (var. categorica/classe appartiene a un punto)\n",
        "\n",
        "sns.scatterplot(x=\"QTY\", y=\"VALUE\", hue=\"MONTH\", data=df_red, palette=\"Dark2\", s=80)\n",
        "plt.title(\"Relazione tra quantità, valore e mese\")\n",
        "plt.show()"
      ]
    },
    {
      "cell_type": "code",
      "execution_count": null,
      "metadata": {
        "colab": {
          "base_uri": "https://localhost:8080/",
          "height": 487
        },
        "id": "GHcazmmZMZxp",
        "outputId": "69b90ea9-0f85-456b-d6e0-fc24f816414a"
      },
      "outputs": [
        {
          "output_type": "stream",
          "name": "stderr",
          "text": [
            "<ipython-input-40-09f4a8d8b9f1>:3: FutureWarning: The default value of numeric_only in DataFrame.corr is deprecated. In a future version, it will default to False. Select only valid columns or specify the value of numeric_only to silence this warning.\n",
            "  corrmat = df_red.corr()\n"
          ]
        },
        {
          "output_type": "display_data",
          "data": {
            "text/plain": [
              "<Figure size 640x480 with 2 Axes>"
            ],
            "image/png": "[encoded data removed]"
          },
          "metadata": {}
        }
      ],
      "source": [
        "# Mappa di calore per identificare le variabili più correlate tra loro\n",
        "\n",
        "corrmat = df_red.corr()\n",
        "hm = sns.heatmap(corrmat,\n",
        "                 cbar=True,\n",
        "                 annot=True,\n",
        "                 square=True,\n",
        "                 fmt='.2f',\n",
        "                 annot_kws={'size': 10},\n",
        "                 cmap=\"Spectral_r\")\n",
        "plt.show()"
      ]
    },
    {
      "cell_type": "markdown",
      "metadata": {
        "id": "dvu3BblxgQsM"
      },
      "source": [
        "***"
      ]
    },
    {
      "cell_type": "markdown",
      "metadata": {
        "id": "36OHaDVFlVKG"
      },
      "source": [
        "# <b style='color:#FF00FF;'> Data Manipulation </b>\n",
        "\n",
        "Basic manipulation commands\n"
      ]
    },
    {
      "cell_type": "code",
      "execution_count": null,
      "metadata": {
        "colab": {
          "base_uri": "https://localhost:8080/"
        },
        "id": "IXNFjhvTky1r",
        "outputId": "44a701cd-3b33-4e10-f3a6-c6113179131b"
      },
      "outputs": [
        {
          "output_type": "stream",
          "name": "stdout",
          "text": [
            "Original Number of Rows: MONTH        14260\n",
            "STORECODE    14260\n",
            "QTY          14260\n",
            "VALUE        14260\n",
            "GRP          14260\n",
            "CMP          14260\n",
            "BRAND        14260\n",
            "dtype: int64\n",
            "Number of Rows after filter: MONTH        10922\n",
            "STORECODE    10922\n",
            "QTY          10922\n",
            "VALUE        10922\n",
            "GRP          10922\n",
            "CMP          10922\n",
            "BRAND        10922\n",
            "dtype: int64\n"
          ]
        }
      ],
      "source": [
        "# We observe that some QTY and some VALUE are null, they do not add information so we filter them away, logging how many exclusions we are making\n",
        "\n",
        "print(f\"Original Number of Rows: {df_red.count()}\")\n",
        "\n",
        "df_filtered = df_red.loc[(df_red[\"QTY\"] > 0) & (df_red[\"VALUE\"] > 0)]\n",
        "\n",
        "print(f\"Number of Rows after filter: {df_filtered.count()}\")"
      ]
    },
    {
      "cell_type": "code",
      "source": [
        "# Add a column with overall spending for each record\n",
        "\n",
        "df_filtered[\"OVERALL_SPENDING\"] = df_filtered[\"QTY\"] * df_filtered[\"VALUE\"]"
      ],
      "metadata": {
        "colab": {
          "base_uri": "https://localhost:8080/"
        },
        "id": "q-2A3ITSrG0F",
        "outputId": "2133d0b8-1bb6-4b9d-8a6f-481c3aeabcba"
      },
      "execution_count": null,
      "outputs": [
        {
          "output_type": "stream",
          "name": "stderr",
          "text": [
            "<ipython-input-60-f940ca16fbda>:3: SettingWithCopyWarning: \n",
            "A value is trying to be set on a copy of a slice from a DataFrame.\n",
            "Try using .loc[row_indexer,col_indexer] = value instead\n",
            "\n",
            "See the caveats in the documentation: https://pandas.pydata.org/pandas-docs/stable/user_guide/indexing.html#returning-a-view-versus-a-copy\n",
            "  df_filtered[\"OVERALL_SPENDING\"] = df_filtered[\"QTY\"] * df_filtered[\"VALUE\"]\n"
          ]
        }
      ]
    },
    {
      "cell_type": "code",
      "source": [
        "# For each store, we can extract some stats over the total amount spent\n",
        "\n",
        "df_grouped = (\n",
        "    df_filtered\n",
        "    .groupby(by=[\"STORECODE\", \"MONTH\"])\n",
        "    .agg({\"OVERALL_SPENDING\": [np.mean, np.min, np.max, np.median]})\n",
        ")\n",
        "df_grouped"
      ],
      "metadata": {
        "colab": {
          "base_uri": "https://localhost:8080/",
          "height": 1000
        },
        "id": "IlPS3wqjqnvz",
        "outputId": "bbbf5b04-6742-44e5-aa3f-332958525c3e"
      },
      "execution_count": null,
      "outputs": [
        {
          "output_type": "execute_result",
          "data": {
            "text/plain": [
              "                OVERALL_SPENDING                      \n",
              "                            mean amin     amax  median\n",
              "STORECODE MONTH                                       \n",
              "P1        M1        15290.144737    4  1112986  1500.5\n",
              "          M2        12536.463190   10   416290  1320.0\n",
              "          M3        12517.007143   15   613164  1442.5\n",
              "P10       M1        13511.047486    4   593451   750.0\n",
              "          M2         7524.173267    5   493350   810.0\n",
              "          M3        13329.923288    5   807408   812.0\n",
              "P2        M1         7455.645646    1   171125   546.0\n",
              "          M2         4487.456140    5   173512   574.5\n",
              "          M3         6229.839344    2   314304   504.0\n",
              "P3        M1        19414.803069    6   828002  2058.0\n",
              "          M2        20553.511236   11   895895  1925.5\n",
              "          M3        20043.895028    5  1619384  1514.5\n",
              "P4        M1        26958.795014    5   931872  1812.0\n",
              "          M2        28535.183562    5  1118376  2148.0\n",
              "          M3        27403.002778    5  1130040  2020.0\n",
              "P5        M1        30944.802885    5   244437  7812.0\n",
              "          M2        34460.086957    9   420370  8085.0\n",
              "          M3        38741.275000    4   364500  9424.0\n",
              "P6        M1         8014.449153   11   555676   597.0\n",
              "          M2        10543.356455    5   535590   963.0\n",
              "          M3         9902.672828    5  1078700   897.0\n",
              "P7        M1        55580.404167   16  2012400  2705.5\n",
              "          M2        92208.585062   19  7303870  2608.0\n",
              "          M3        46792.963855   21  5700984  3082.0\n",
              "P8        M1        13424.409449    3  1149120   972.0\n",
              "          M2        11319.362218    4  1202320   810.0\n",
              "          M3        11306.539394    8   405528  1120.0\n",
              "P9        M1        17066.037037    5  2008545   819.0\n",
              "          M2        15942.500000    4  1231875  1149.5\n",
              "          M3        27254.400000    6  3203750  1290.0"
            ],
            "text/html": [
              "\n",
              "  <div id=\"df-c293f790-0919-470d-8249-2106b927fa89\" class=\"colab-df-container\">\n",
              "    <div>\n",
              "<style scoped>\n",
              "    .dataframe tbody tr th:only-of-type {\n",
              "        vertical-align: middle;\n",
              "    }\n",
              "\n",
              "    .dataframe tbody tr th {\n",
              "        vertical-align: top;\n",
              "    }\n",
              "\n",
              "    .dataframe thead tr th {\n",
              "        text-align: left;\n",
              "    }\n",
              "\n",
              "    .dataframe thead tr:last-of-type th {\n",
              "        text-align: right;\n",
              "    }\n",
              "</style>\n",
              "<table border=\"1\" class=\"dataframe\">\n",
              "  <thead>\n",
              "    <tr>\n",
              "      <th></th>\n",
              "      <th></th>\n",
              "      <th colspan=\"4\" halign=\"left\">OVERALL_SPENDING</th>\n",
              "    </tr>\n",
              "    <tr>\n",
              "      <th></th>\n",
              "      <th></th>\n",
              "      <th>mean</th>\n",
              "      <th>amin</th>\n",
              "      <th>amax</th>\n",
              "      <th>median</th>\n",
              "    </tr>\n",
              "    <tr>\n",
              "      <th>STORECODE</th>\n",
              "      <th>MONTH</th>\n",
              "      <th></th>\n",
              "      <th></th>\n",
              "      <th></th>\n",
              "      <th></th>\n",
              "    </tr>\n",
              "  </thead>\n",
              "  <tbody>\n",
              "    <tr>\n",
              "      <th rowspan=\"3\" valign=\"top\">P1</th>\n",
              "      <th>M1</th>\n",
              "      <td>15290.144737</td>\n",
              "      <td>4</td>\n",
              "      <td>1112986</td>\n",
              "      <td>1500.5</td>\n",
              "    </tr>\n",
              "    <tr>\n",
              "      <th>M2</th>\n",
              "      <td>12536.463190</td>\n",
              "      <td>10</td>\n",
              "      <td>416290</td>\n",
              "      <td>1320.0</td>\n",
              "    </tr>\n",
              "    <tr>\n",
              "      <th>M3</th>\n",
              "      <td>12517.007143</td>\n",
              "      <td>15</td>\n",
              "      <td>613164</td>\n",
              "      <td>1442.5</td>\n",
              "    </tr>\n",
              "    <tr>\n",
              "      <th rowspan=\"3\" valign=\"top\">P10</th>\n",
              "      <th>M1</th>\n",
              "      <td>13511.047486</td>\n",
              "      <td>4</td>\n",
              "      <td>593451</td>\n",
              "      <td>750.0</td>\n",
              "    </tr>\n",
              "    <tr>\n",
              "      <th>M2</th>\n",
              "      <td>7524.173267</td>\n",
              "      <td>5</td>\n",
              "      <td>493350</td>\n",
              "      <td>810.0</td>\n",
              "    </tr>\n",
              "    <tr>\n",
              "      <th>M3</th>\n",
              "      <td>13329.923288</td>\n",
              "      <td>5</td>\n",
              "      <td>807408</td>\n",
              "      <td>812.0</td>\n",
              "    </tr>\n",
              "    <tr>\n",
              "      <th rowspan=\"3\" valign=\"top\">P2</th>\n",
              "      <th>M1</th>\n",
              "      <td>7455.645646</td>\n",
              "      <td>1</td>\n",
              "      <td>171125</td>\n",
              "      <td>546.0</td>\n",
              "    </tr>\n",
              "    <tr>\n",
              "      <th>M2</th>\n",
              "      <td>4487.456140</td>\n",
              "      <td>5</td>\n",
              "      <td>173512</td>\n",
              "      <td>574.5</td>\n",
              "    </tr>\n",
              "    <tr>\n",
              "      <th>M3</th>\n",
              "      <td>6229.839344</td>\n",
              "      <td>2</td>\n",
              "      <td>314304</td>\n",
              "      <td>504.0</td>\n",
              "    </tr>\n",
              "    <tr>\n",
              "      <th rowspan=\"3\" valign=\"top\">P3</th>\n",
              "      <th>M1</th>\n",
              "      <td>19414.803069</td>\n",
              "      <td>6</td>\n",
              "      <td>828002</td>\n",
              "      <td>2058.0</td>\n",
              "    </tr>\n",
              "    <tr>\n",
              "      <th>M2</th>\n",
              "      <td>20553.511236</td>\n",
              "      <td>11</td>\n",
              "      <td>895895</td>\n",
              "      <td>1925.5</td>\n",
              "    </tr>\n",
              "    <tr>\n",
              "      <th>M3</th>\n",
              "      <td>20043.895028</td>\n",
              "      <td>5</td>\n",
              "      <td>1619384</td>\n",
              "      <td>1514.5</td>\n",
              "    </tr>\n",
              "    <tr>\n",
              "      <th rowspan=\"3\" valign=\"top\">P4</th>\n",
              "      <th>M1</th>\n",
              "      <td>26958.795014</td>\n",
              "      <td>5</td>\n",
              "      <td>931872</td>\n",
              "      <td>1812.0</td>\n",
              "    </tr>\n",
              "    <tr>\n",
              "      <th>M2</th>\n",
              "      <td>28535.183562</td>\n",
              "      <td>5</td>\n",
              "      <td>1118376</td>\n",
              "      <td>2148.0</td>\n",
              "    </tr>\n",
              "    <tr>\n",
              "      <th>M3</th>\n",
              "      <td>27403.002778</td>\n",
              "      <td>5</td>\n",
              "      <td>1130040</td>\n",
              "      <td>2020.0</td>\n",
              "    </tr>\n",
              "    <tr>\n",
              "      <th rowspan=\"3\" valign=\"top\">P5</th>\n",
              "      <th>M1</th>\n",
              "      <td>30944.802885</td>\n",
              "      <td>5</td>\n",
              "      <td>244437</td>\n",
              "      <td>7812.0</td>\n",
              "    </tr>\n",
              "    <tr>\n",
              "      <th>M2</th>\n",
              "      <td>34460.086957</td>\n",
              "      <td>9</td>\n",
              "      <td>420370</td>\n",
              "      <td>8085.0</td>\n",
              "    </tr>\n",
              "    <tr>\n",
              "      <th>M3</th>\n",
              "      <td>38741.275000</td>\n",
              "      <td>4</td>\n",
              "      <td>364500</td>\n",
              "      <td>9424.0</td>\n",
              "    </tr>\n",
              "    <tr>\n",
              "      <th rowspan=\"3\" valign=\"top\">P6</th>\n",
              "      <th>M1</th>\n",
              "      <td>8014.449153</td>\n",
              "      <td>11</td>\n",
              "      <td>555676</td>\n",
              "      <td>597.0</td>\n",
              "    </tr>\n",
              "    <tr>\n",
              "      <th>M2</th>\n",
              "      <td>10543.356455</td>\n",
              "      <td>5</td>\n",
              "      <td>535590</td>\n",
              "      <td>963.0</td>\n",
              "    </tr>\n",
              "    <tr>\n",
              "      <th>M3</th>\n",
              "      <td>9902.672828</td>\n",
              "      <td>5</td>\n",
              "      <td>1078700</td>\n",
              "      <td>897.0</td>\n",
              "    </tr>\n",
              "    <tr>\n",
              "      <th rowspan=\"3\" valign=\"top\">P7</th>\n",
              "      <th>M1</th>\n",
              "      <td>55580.404167</td>\n",
              "      <td>16</td>\n",
              "      <td>2012400</td>\n",
              "      <td>2705.5</td>\n",
              "    </tr>\n",
              "    <tr>\n",
              "      <th>M2</th>\n",
              "      <td>92208.585062</td>\n",
              "      <td>19</td>\n",
              "      <td>7303870</td>\n",
              "      <td>2608.0</td>\n",
              "    </tr>\n",
              "    <tr>\n",
              "      <th>M3</th>\n",
              "      <td>46792.963855</td>\n",
              "      <td>21</td>\n",
              "      <td>5700984</td>\n",
              "      <td>3082.0</td>\n",
              "    </tr>\n",
              "    <tr>\n",
              "      <th rowspan=\"3\" valign=\"top\">P8</th>\n",
              "      <th>M1</th>\n",
              "      <td>13424.409449</td>\n",
              "      <td>3</td>\n",
              "      <td>1149120</td>\n",
              "      <td>972.0</td>\n",
              "    </tr>\n",
              "    <tr>\n",
              "      <th>M2</th>\n",
              "      <td>11319.362218</td>\n",
              "      <td>4</td>\n",
              "      <td>1202320</td>\n",
              "      <td>810.0</td>\n",
              "    </tr>\n",
              "    <tr>\n",
              "      <th>M3</th>\n",
              "      <td>11306.539394</td>\n",
              "      <td>8</td>\n",
              "      <td>405528</td>\n",
              "      <td>1120.0</td>\n",
              "    </tr>\n",
              "    <tr>\n",
              "      <th rowspan=\"3\" valign=\"top\">P9</th>\n",
              "      <th>M1</th>\n",
              "      <td>17066.037037</td>\n",
              "      <td>5</td>\n",
              "      <td>2008545</td>\n",
              "      <td>819.0</td>\n",
              "    </tr>\n",
              "    <tr>\n",
              "      <th>M2</th>\n",
              "      <td>15942.500000</td>\n",
              "      <td>4</td>\n",
              "      <td>1231875</td>\n",
              "      <td>1149.5</td>\n",
              "    </tr>\n",
              "    <tr>\n",
              "      <th>M3</th>\n",
              "      <td>27254.400000</td>\n",
              "      <td>6</td>\n",
              "      <td>3203750</td>\n",
              "      <td>1290.0</td>\n",
              "    </tr>\n",
              "  </tbody>\n",
              "</table>\n",
              "</div>\n",
              "    <div class=\"colab-df-buttons\">\n",
              "\n",
              "  <div class=\"colab-df-container\">\n",
              "    <button class=\"colab-df-convert\" onclick=\"convertToInteractive('df-c293f790-0919-470d-8249-2106b927fa89')\"\n",
              "            title=\"Convert this dataframe to an interactive table.\"\n",
              "            style=\"display:none;\">\n",
              "\n",
              "  <svg xmlns=\"http://www.w3.org/2000/svg\" height=\"24px\" viewBox=\"0 -960 960 960\">\n",
              "    <path d=\"M120-120v-720h720v720H120Zm60-500h600v-160H180v160Zm220 220h160v-160H400v160Zm0 220h160v-160H400v160ZM180-400h160v-160H180v160Zm440 0h160v-160H620v160ZM180-180h160v-160H180v160Zm440 0h160v-160H620v160Z\"/>\n",
              "  </svg>\n",
              "    </button>\n",
              "\n",
              "  <style>\n",
              "    .colab-df-container {\n",
              "      display:flex;\n",
              "      gap: 12px;\n",
              "    }\n",
              "\n",
              "    .colab-df-convert {\n",
              "      background-color: #E8F0FE;\n",
              "      border: none;\n",
              "      border-radius: 50%;\n",
              "      cursor: pointer;\n",
              "      display: none;\n",
              "      fill: #1967D2;\n",
              "      height: 32px;\n",
              "      padding: 0 0 0 0;\n",
              "      width: 32px;\n",
              "    }\n",
              "\n",
              "    .colab-df-convert:hover {\n",
              "      background-color: #E2EBFA;\n",
              "      box-shadow: 0px 1px 2px rgba(60, 64, 67, 0.3), 0px 1px 3px 1px rgba(60, 64, 67, 0.15);\n",
              "      fill: #174EA6;\n",
              "    }\n",
              "\n",
              "    .colab-df-buttons div {\n",
              "      margin-bottom: 4px;\n",
              "    }\n",
              "\n",
              "    [theme=dark] .colab-df-convert {\n",
              "      background-color: #3B4455;\n",
              "      fill: #D2E3FC;\n",
              "    }\n",
              "\n",
              "    [theme=dark] .colab-df-convert:hover {\n",
              "      background-color: #434B5C;\n",
              "      box-shadow: 0px 1px 3px 1px rgba(0, 0, 0, 0.15);\n",
              "      filter: drop-shadow(0px 1px 2px rgba(0, 0, 0, 0.3));\n",
              "      fill: #FFFFFF;\n",
              "    }\n",
              "  </style>\n",
              "\n",
              "    <script>\n",
              "      const buttonEl =\n",
              "        document.querySelector('#df-c293f790-0919-470d-8249-2106b927fa89 button.colab-df-convert');\n",
              "      buttonEl.style.display =\n",
              "        google.colab.kernel.accessAllowed ? 'block' : 'none';\n",
              "\n",
              "      async function convertToInteractive(key) {\n",
              "        const element = document.querySelector('#df-c293f790-0919-470d-8249-2106b927fa89');\n",
              "        const dataTable =\n",
              "          await google.colab.kernel.invokeFunction('convertToInteractive',\n",
              "                                                    [key], {});\n",
              "        if (!dataTable) return;\n",
              "\n",
              "        const docLinkHtml = 'Like what you see? Visit the ' +\n",
              "          '<a target=\"_blank\" href=https://colab.research.google.com/notebooks/data_table.ipynb>data table notebook</a>'\n",
              "          + ' to learn more about interactive tables.';\n",
              "        element.innerHTML = '';\n",
              "        dataTable['output_type'] = 'display_data';\n",
              "        await google.colab.output.renderOutput(dataTable, element);\n",
              "        const docLink = document.createElement('div');\n",
              "        docLink.innerHTML = docLinkHtml;\n",
              "        element.appendChild(docLink);\n",
              "      }\n",
              "    </script>\n",
              "  </div>\n",
              "\n",
              "\n",
              "<div id=\"df-71e3b267-0b40-4d76-807f-864484b2f45d\">\n",
              "  <button class=\"colab-df-quickchart\" onclick=\"quickchart('df-71e3b267-0b40-4d76-807f-864484b2f45d')\"\n",
              "            title=\"Suggest charts.\"\n",
              "            style=\"display:none;\">\n",
              "\n",
              "<svg xmlns=\"http://www.w3.org/2000/svg\" height=\"24px\"viewBox=\"0 0 24 24\"\n",
              "     width=\"24px\">\n",
              "    <g>\n",
              "        <path d=\"M19 3H5c-1.1 0-2 .9-2 2v14c0 1.1.9 2 2 2h14c1.1 0 2-.9 2-2V5c0-1.1-.9-2-2-2zM9 17H7v-7h2v7zm4 0h-2V7h2v10zm4 0h-2v-4h2v4z\"/>\n",
              "    </g>\n",
              "</svg>\n",
              "  </button>\n",
              "\n",
              "<style>\n",
              "  .colab-df-quickchart {\n",
              "      --bg-color: #E8F0FE;\n",
              "      --fill-color: #1967D2;\n",
              "      --hover-bg-color: #E2EBFA;\n",
              "      --hover-fill-color: #174EA6;\n",
              "      --disabled-fill-color: #AAA;\n",
              "      --disabled-bg-color: #DDD;\n",
              "  }\n",
              "\n",
              "  [theme=dark] .colab-df-quickchart {\n",
              "      --bg-color: #3B4455;\n",
              "      --fill-color: #D2E3FC;\n",
              "      --hover-bg-color: #434B5C;\n",
              "      --hover-fill-color: #FFFFFF;\n",
              "      --disabled-bg-color: #3B4455;\n",
              "      --disabled-fill-color: #666;\n",
              "  }\n",
              "\n",
              "  .colab-df-quickchart {\n",
              "    background-color: var(--bg-color);\n",
              "    border: none;\n",
              "    border-radius: 50%;\n",
              "    cursor: pointer;\n",
              "    display: none;\n",
              "    fill: var(--fill-color);\n",
              "    height: 32px;\n",
              "    padding: 0;\n",
              "    width: 32px;\n",
              "  }\n",
              "\n",
              "  .colab-df-quickchart:hover {\n",
              "    background-color: var(--hover-bg-color);\n",
              "    box-shadow: 0 1px 2px rgba(60, 64, 67, 0.3), 0 1px 3px 1px rgba(60, 64, 67, 0.15);\n",
              "    fill: var(--button-hover-fill-color);\n",
              "  }\n",
              "\n",
              "  .colab-df-quickchart-complete:disabled,\n",
              "  .colab-df-quickchart-complete:disabled:hover {\n",
              "    background-color: var(--disabled-bg-color);\n",
              "    fill: var(--disabled-fill-color);\n",
              "    box-shadow: none;\n",
              "  }\n",
              "\n",
              "  .colab-df-spinner {\n",
              "    border: 2px solid var(--fill-color);\n",
              "    border-color: transparent;\n",
              "    border-bottom-color: var(--fill-color);\n",
              "    animation:\n",
              "      spin 1s steps(1) infinite;\n",
              "  }\n",
              "\n",
              "  @keyframes spin {\n",
              "    0% {\n",
              "      border-color: transparent;\n",
              "      border-bottom-color: var(--fill-color);\n",
              "      border-left-color: var(--fill-color);\n",
              "    }\n",
              "    20% {\n",
              "      border-color: transparent;\n",
              "      border-left-color: var(--fill-color);\n",
              "      border-top-color: var(--fill-color);\n",
              "    }\n",
              "    30% {\n",
              "      border-color: transparent;\n",
              "      border-left-color: var(--fill-color);\n",
              "      border-top-color: var(--fill-color);\n",
              "      border-right-color: var(--fill-color);\n",
              "    }\n",
              "    40% {\n",
              "      border-color: transparent;\n",
              "      border-right-color: var(--fill-color);\n",
              "      border-top-color: var(--fill-color);\n",
              "    }\n",
              "    60% {\n",
              "      border-color: transparent;\n",
              "      border-right-color: var(--fill-color);\n",
              "    }\n",
              "    80% {\n",
              "      border-color: transparent;\n",
              "      border-right-color: var(--fill-color);\n",
              "      border-bottom-color: var(--fill-color);\n",
              "    }\n",
              "    90% {\n",
              "      border-color: transparent;\n",
              "      border-bottom-color: var(--fill-color);\n",
              "    }\n",
              "  }\n",
              "</style>\n",
              "\n",
              "  <script>\n",
              "    async function quickchart(key) {\n",
              "      const quickchartButtonEl =\n",
              "        document.querySelector('#' + key + ' button');\n",
              "      quickchartButtonEl.disabled = true;  // To prevent multiple clicks.\n",
              "      quickchartButtonEl.classList.add('colab-df-spinner');\n",
              "      try {\n",
              "        const charts = await google.colab.kernel.invokeFunction(\n",
              "            'suggestCharts', [key], {});\n",
              "      } catch (error) {\n",
              "        console.error('Error during call to suggestCharts:', error);\n",
              "      }\n",
              "      quickchartButtonEl.classList.remove('colab-df-spinner');\n",
              "      quickchartButtonEl.classList.add('colab-df-quickchart-complete');\n",
              "    }\n",
              "    (() => {\n",
              "      let quickchartButtonEl =\n",
              "        document.querySelector('#df-71e3b267-0b40-4d76-807f-864484b2f45d button');\n",
              "      quickchartButtonEl.style.display =\n",
              "        google.colab.kernel.accessAllowed ? 'block' : 'none';\n",
              "    })();\n",
              "  </script>\n",
              "</div>\n",
              "    </div>\n",
              "  </div>\n"
            ]
          },
          "metadata": {},
          "execution_count": 62
        }
      ]
    }
  ],
  "metadata": {
    "colab": {
      "provenance": []
    },
    "kernelspec": {
      "display_name": "Python 3",
      "language": "python",
      "name": "python3"
    },
    "language_info": {
      "codemirror_mode": {
        "name": "ipython",
        "version": 3
      },
      "file_extension": ".py",
      "mimetype": "text/x-python",
      "name": "python",
      "nbconvert_exporter": "python",
      "pygments_lexer": "ipython3",
      "version": "3.8.8"
    }
  },
  "nbformat": 4,
  "nbformat_minor": 0
}